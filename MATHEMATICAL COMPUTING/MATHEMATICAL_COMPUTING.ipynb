{
 "cells": [
  {
   "cell_type": "code",
   "execution_count": null,
   "metadata": {},
   "outputs": [],
   "source": [
    "#cnstruct a matrix below;[1 0.2 0.5][0.2 1 0.8 ][0.5 0.8 1] as a Numpy array.\n",
    "#(a)compute an inversion of the matrix(Transpose)\n",
    "            "
   ]
  },
  {
   "cell_type": "code",
   "execution_count": 1,
   "metadata": {},
   "outputs": [],
   "source": [
    "import numpy as np"
   ]
  },
  {
   "cell_type": "code",
   "execution_count": null,
   "metadata": {},
   "outputs": [],
   "source": [
    "#find an inversion of a given array.\n",
    "arr = np.array([1,2][4,6])"
   ]
  },
  {
   "cell_type": "code",
   "execution_count": null,
   "metadata": {},
   "outputs": [],
   "source": [
    "inverse_array = np.linalg.inv(arr)\n",
    "print(inverse_array)\n",
    "print()"
   ]
  },
  {
   "cell_type": "code",
   "execution_count": null,
   "metadata": {},
   "outputs": [],
   "source": [
    "# find matrix (3x3)\n",
    "arr = np.array([[2, 3, 4]\n",
    "                [4, 5, 6]\n",
    "                [6, 7, 8]])"
   ]
  },
  {
   "cell_type": "code",
   "execution_count": null,
   "metadata": {},
   "outputs": [],
   "source": [
    "inverse_array = np.linalg.inv(arr)\n",
    "print(inverse_array)\n",
    "print()"
   ]
  },
  {
   "cell_type": "code",
   "execution_count": null,
   "metadata": {},
   "outputs": [],
   "source": [
    "# inverse of finding matrix(1x1)\n",
    "arr =np.array([[3]])"
   ]
  },
  {
   "cell_type": "code",
   "execution_count": null,
   "metadata": {},
   "outputs": [],
   "source": [
    "inverse_array = np.linalg.inv(arr)\n",
    "print(inverse_array)\n",
    "print()\n",
    "#find matrix(2x2)\n",
    "arr = np.array([[4, 5]\n",
    "                [6, 8]])"
   ]
  }
 ],
 "metadata": {
  "kernelspec": {
   "display_name": "Python 3",
   "language": "python",
   "name": "python3"
  },
  "language_info": {
   "codemirror_mode": {
    "name": "ipython",
    "version": 3
   },
   "file_extension": ".py",
   "mimetype": "text/x-python",
   "name": "python",
   "nbconvert_exporter": "python",
   "pygments_lexer": "ipython3",
   "version": "3.11.4"
  }
 },
 "nbformat": 4,
 "nbformat_minor": 2
}
